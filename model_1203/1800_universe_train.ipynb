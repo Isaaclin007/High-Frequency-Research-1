{
 "cells": [
  {
   "cell_type": "code",
   "execution_count": 1,
   "metadata": {},
   "outputs": [],
   "source": [
    "import pandas as pd\n",
    "import numpy as np\n",
    "import lightgbm as lgb\n",
    "import sys\n",
    "sys.path.append('../')\n",
    "from machine_learning_class import machine_learning_class\n",
    "import machine_learning_class as ml\n",
    "from datetime import datetime\n",
    "import scipy.stats as sts"
   ]
  },
  {
   "cell_type": "code",
   "execution_count": null,
   "metadata": {},
   "outputs": [],
   "source": [
    "train_data_path = 'SZ_06_08_1800_universe_clean.h5'\n",
    "target_name = 'target_MidReturn60'\n",
    "ml_obj = machine_learning_class(train_data_path, target_name, select_key='Data')\n",
    "ml_obj.get_X_Y_train()\n",
    "data_train = lgb.Dataset(ml_obj.X_train, ml_obj.y_train, silent=True)\n",
    "data_eval = lgb.Dataset(ml_obj.X_test, ml_obj.y_test, reference=data_train)"
   ]
  },
  {
   "cell_type": "code",
   "execution_count": 3,
   "metadata": {},
   "outputs": [],
   "source": []
  },
  {
   "cell_type": "code",
   "execution_count": 4,
   "metadata": {},
   "outputs": [],
   "source": [
    "model_1_params = {'application': 'regression', \n",
    "                    'boosting':'gbdt',\n",
    "                    'num_iterations':100,\n",
    "                    'learning_rate':0.1,\n",
    "                    'max_depth':15,\n",
    "                    'num_leaves':1500,\n",
    "                    'verbose':2, \n",
    "                    'feature_fraction':0.7,\n",
    "                    'bagging_fraction':0.7,\n",
    "                    'bagging_freq':5,\n",
    "                    'min_data_in_leaf':1000,\n",
    "                    'lambda_l2':1,\n",
    "                    'num_threads':15,\n",
    "                    'early_stopping_round':10,\n",
    "                    'metric':'l2'}"
   ]
  },
  {
   "cell_type": "code",
   "execution_count": 5,
   "metadata": {},
   "outputs": [
    {
     "name": "stderr",
     "output_type": "stream",
     "text": [
      "F:\\Anaconda3\\lib\\site-packages\\lightgbm\\engine.py:113: UserWarning: Found `num_iterations` in params. Will use it instead of argument\n",
      "  warnings.warn(\"Found `{}` in params. Will use it instead of argument\".format(alias))\n",
      "F:\\Anaconda3\\lib\\site-packages\\lightgbm\\engine.py:118: UserWarning: Found `early_stopping_round` in params. Will use it instead of argument\n",
      "  warnings.warn(\"Found `{}` in params. Will use it instead of argument\".format(alias))\n"
     ]
    },
    {
     "name": "stdout",
     "output_type": "stream",
     "text": [
      "[1]\tvalid_0's l2: 3.35369e-06\n",
      "Training until validation scores don't improve for 10 rounds.\n",
      "[2]\tvalid_0's l2: 3.3022e-06\n",
      "[3]\tvalid_0's l2: 3.25997e-06\n",
      "[4]\tvalid_0's l2: 3.22119e-06\n",
      "[5]\tvalid_0's l2: 3.19207e-06\n",
      "[6]\tvalid_0's l2: 3.16394e-06\n",
      "[7]\tvalid_0's l2: 3.14158e-06\n",
      "[8]\tvalid_0's l2: 3.11964e-06\n",
      "[9]\tvalid_0's l2: 3.1013e-06\n",
      "[10]\tvalid_0's l2: 3.0854e-06\n",
      "[11]\tvalid_0's l2: 3.07136e-06\n",
      "[12]\tvalid_0's l2: 3.05965e-06\n",
      "[13]\tvalid_0's l2: 3.04846e-06\n",
      "[14]\tvalid_0's l2: 3.03829e-06\n",
      "[15]\tvalid_0's l2: 3.02981e-06\n",
      "[16]\tvalid_0's l2: 3.02191e-06\n",
      "[17]\tvalid_0's l2: 3.01482e-06\n",
      "[18]\tvalid_0's l2: 3.00849e-06\n",
      "[19]\tvalid_0's l2: 3.00324e-06\n",
      "[20]\tvalid_0's l2: 2.99802e-06\n",
      "[21]\tvalid_0's l2: 2.99353e-06\n",
      "[22]\tvalid_0's l2: 2.98939e-06\n",
      "[23]\tvalid_0's l2: 2.98538e-06\n",
      "[24]\tvalid_0's l2: 2.98198e-06\n",
      "[25]\tvalid_0's l2: 2.97835e-06\n",
      "[26]\tvalid_0's l2: 2.97502e-06\n",
      "[27]\tvalid_0's l2: 2.97194e-06\n",
      "[28]\tvalid_0's l2: 2.96894e-06\n",
      "[29]\tvalid_0's l2: 2.96643e-06\n",
      "[30]\tvalid_0's l2: 2.96379e-06\n",
      "[31]\tvalid_0's l2: 2.96119e-06\n",
      "[32]\tvalid_0's l2: 2.9588e-06\n",
      "[33]\tvalid_0's l2: 2.95662e-06\n",
      "[34]\tvalid_0's l2: 2.95433e-06\n",
      "[35]\tvalid_0's l2: 2.95221e-06\n",
      "[36]\tvalid_0's l2: 2.95006e-06\n",
      "[37]\tvalid_0's l2: 2.94808e-06\n",
      "[38]\tvalid_0's l2: 2.94622e-06\n",
      "[39]\tvalid_0's l2: 2.94444e-06\n",
      "[40]\tvalid_0's l2: 2.94293e-06\n",
      "[41]\tvalid_0's l2: 2.94122e-06\n",
      "[42]\tvalid_0's l2: 2.93962e-06\n",
      "[43]\tvalid_0's l2: 2.93823e-06\n",
      "[44]\tvalid_0's l2: 2.93689e-06\n",
      "[45]\tvalid_0's l2: 2.9354e-06\n",
      "[46]\tvalid_0's l2: 2.93405e-06\n",
      "[47]\tvalid_0's l2: 2.9327e-06\n",
      "[48]\tvalid_0's l2: 2.93136e-06\n",
      "[49]\tvalid_0's l2: 2.93002e-06\n",
      "[50]\tvalid_0's l2: 2.92894e-06\n",
      "[51]\tvalid_0's l2: 2.92768e-06\n",
      "[52]\tvalid_0's l2: 2.92656e-06\n",
      "[53]\tvalid_0's l2: 2.92549e-06\n",
      "[54]\tvalid_0's l2: 2.92455e-06\n",
      "[55]\tvalid_0's l2: 2.92343e-06\n",
      "[56]\tvalid_0's l2: 2.9225e-06\n",
      "[57]\tvalid_0's l2: 2.92155e-06\n",
      "[58]\tvalid_0's l2: 2.92049e-06\n",
      "[59]\tvalid_0's l2: 2.91921e-06\n",
      "[60]\tvalid_0's l2: 2.91806e-06\n",
      "[61]\tvalid_0's l2: 2.91719e-06\n",
      "[62]\tvalid_0's l2: 2.91631e-06\n",
      "[63]\tvalid_0's l2: 2.91535e-06\n",
      "[64]\tvalid_0's l2: 2.91448e-06\n",
      "[65]\tvalid_0's l2: 2.91361e-06\n",
      "[66]\tvalid_0's l2: 2.91258e-06\n",
      "[67]\tvalid_0's l2: 2.91191e-06\n",
      "[68]\tvalid_0's l2: 2.91125e-06\n",
      "[69]\tvalid_0's l2: 2.91041e-06\n",
      "[70]\tvalid_0's l2: 2.90945e-06\n",
      "[71]\tvalid_0's l2: 2.90888e-06\n",
      "[72]\tvalid_0's l2: 2.90791e-06\n",
      "[73]\tvalid_0's l2: 2.90717e-06\n",
      "[74]\tvalid_0's l2: 2.90633e-06\n",
      "[75]\tvalid_0's l2: 2.90561e-06\n",
      "[76]\tvalid_0's l2: 2.90484e-06\n",
      "[77]\tvalid_0's l2: 2.90421e-06\n",
      "[78]\tvalid_0's l2: 2.90359e-06\n",
      "[79]\tvalid_0's l2: 2.90296e-06\n",
      "[80]\tvalid_0's l2: 2.90229e-06\n",
      "[81]\tvalid_0's l2: 2.90167e-06\n",
      "[82]\tvalid_0's l2: 2.90104e-06\n",
      "[83]\tvalid_0's l2: 2.90028e-06\n",
      "[84]\tvalid_0's l2: 2.89975e-06\n",
      "[85]\tvalid_0's l2: 2.89919e-06\n",
      "[86]\tvalid_0's l2: 2.89846e-06\n",
      "[87]\tvalid_0's l2: 2.89771e-06\n",
      "[88]\tvalid_0's l2: 2.89699e-06\n",
      "[89]\tvalid_0's l2: 2.89625e-06\n",
      "[90]\tvalid_0's l2: 2.89567e-06\n",
      "[91]\tvalid_0's l2: 2.89511e-06\n",
      "[92]\tvalid_0's l2: 2.89458e-06\n",
      "[93]\tvalid_0's l2: 2.89404e-06\n",
      "[94]\tvalid_0's l2: 2.89342e-06\n",
      "[95]\tvalid_0's l2: 2.89281e-06\n",
      "[96]\tvalid_0's l2: 2.89225e-06\n",
      "[97]\tvalid_0's l2: 2.89173e-06\n",
      "[98]\tvalid_0's l2: 2.89114e-06\n",
      "[99]\tvalid_0's l2: 2.89053e-06\n",
      "[100]\tvalid_0's l2: 2.89021e-06\n",
      "Did not meet early stopping. Best iteration is:\n",
      "[100]\tvalid_0's l2: 2.89021e-06\n",
      "total training time is 37.5 minutes\n"
     ]
    },
    {
     "data": {
      "text/plain": [
       "<lightgbm.basic.Booster at 0xc073ddfd0>"
      ]
     },
     "execution_count": 5,
     "metadata": {},
     "output_type": "execute_result"
    }
   ],
   "source": [
    "start = datetime.now()\n",
    "lgb_model = lgb.train(model_1_params, data_train, valid_sets=data_eval)\n",
    "end = datetime.now()\n",
    "total_minute = (end - start).days * 24 * 60 + (end - start).seconds / 60\n",
    "print('total training time is {} minutes'.format(total_minute))\n",
    "lgb_model.save_model('lgb_model_1feature_1203' + '.txt')"
   ]
  },
  {
   "cell_type": "code",
   "execution_count": 6,
   "metadata": {},
   "outputs": [],
   "source": [
    "import scipy.stats as sts"
   ]
  },
  {
   "cell_type": "code",
   "execution_count": 11,
   "metadata": {},
   "outputs": [],
   "source": [
    "predict_train = lgb_model.predict(ml_obj.X_train)"
   ]
  },
  {
   "cell_type": "code",
   "execution_count": 7,
   "metadata": {},
   "outputs": [],
   "source": [
    "predict_eval = lgb_model.predict(ml_obj.X_test)"
   ]
  },
  {
   "cell_type": "code",
   "execution_count": 12,
   "metadata": {},
   "outputs": [
    {
     "data": {
      "text/plain": [
       "array([[1.        , 0.40215171],\n",
       "       [0.40215171, 1.        ]])"
      ]
     },
     "execution_count": 12,
     "metadata": {},
     "output_type": "execute_result"
    }
   ],
   "source": [
    "np.corrcoef(predict_train, ml_obj.y_train)"
   ]
  },
  {
   "cell_type": "code",
   "execution_count": 13,
   "metadata": {},
   "outputs": [
    {
     "data": {
      "text/plain": [
       "SpearmanrResult(correlation=0.37413998225424466, pvalue=0.0)"
      ]
     },
     "execution_count": 13,
     "metadata": {},
     "output_type": "execute_result"
    }
   ],
   "source": [
    "sts.spearmanr(predict_train, ml_obj.y_train)"
   ]
  },
  {
   "cell_type": "code",
   "execution_count": 9,
   "metadata": {},
   "outputs": [
    {
     "data": {
      "text/plain": [
       "array([[1.        , 0.39195136],\n",
       "       [0.39195136, 1.        ]])"
      ]
     },
     "execution_count": 9,
     "metadata": {},
     "output_type": "execute_result"
    }
   ],
   "source": [
    "np.corrcoef(predict_eval, ml_obj.y_test)"
   ]
  },
  {
   "cell_type": "code",
   "execution_count": 10,
   "metadata": {},
   "outputs": [
    {
     "data": {
      "text/plain": [
       "SpearmanrResult(correlation=0.3713450576239109, pvalue=0.0)"
      ]
     },
     "execution_count": 10,
     "metadata": {},
     "output_type": "execute_result"
    }
   ],
   "source": [
    "sts.spearmanr(predict_eval, ml_obj.y_test)"
   ]
  },
  {
   "cell_type": "code",
   "execution_count": null,
   "metadata": {},
   "outputs": [],
   "source": [
    "np.corrcoef(predict_eval, ml_obj.y_test)"
   ]
  },
  {
   "cell_type": "code",
   "execution_count": null,
   "metadata": {},
   "outputs": [],
   "source": []
  },
  {
   "cell_type": "code",
   "execution_count": 1,
   "metadata": {},
   "outputs": [],
   "source": [
    "import pandas as pd\n",
    "import numpy as np"
   ]
  },
  {
   "cell_type": "code",
   "execution_count": 3,
   "metadata": {},
   "outputs": [],
   "source": [
    "target_path = 'F:/Machine_Learning_Structure/LightGBM_Tuning/construct_data_set_1203/backtest_SZ/SZ_partial_m6_m8/SZ_feature_target.h5'\n",
    "\n",
    "data = pd.HDFStore(target_path, 'r')"
   ]
  },
  {
   "cell_type": "code",
   "execution_count": 4,
   "metadata": {},
   "outputs": [
    {
     "data": {
      "text/plain": [
       "['/Diff_Return_120-60',\n",
       " '/Diff_Return_180-120',\n",
       " '/Diff_Return_300-180',\n",
       " '/Diff_Return_60-15',\n",
       " '/MidReturn120',\n",
       " '/MidReturn15',\n",
       " '/MidReturn180',\n",
       " '/MidReturn300',\n",
       " '/MidReturn60',\n",
       " '/pnl_data_concated',\n",
       " '/spread_bid_ask_series']"
      ]
     },
     "execution_count": 4,
     "metadata": {},
     "output_type": "execute_result"
    }
   ],
   "source": [
    "data.keys()"
   ]
  },
  {
   "cell_type": "code",
   "execution_count": 6,
   "metadata": {},
   "outputs": [],
   "source": [
    "data.close()"
   ]
  },
  {
   "cell_type": "code",
   "execution_count": null,
   "metadata": {},
   "outputs": [],
   "source": []
  }
 ],
 "metadata": {
  "kernelspec": {
   "display_name": "Python 3",
   "language": "python",
   "name": "python3"
  },
  "language_info": {
   "codemirror_mode": {
    "name": "ipython",
    "version": 3
   },
   "file_extension": ".py",
   "mimetype": "text/x-python",
   "name": "python",
   "nbconvert_exporter": "python",
   "pygments_lexer": "ipython3",
   "version": "3.6.6"
  }
 },
 "nbformat": 4,
 "nbformat_minor": 2
}
