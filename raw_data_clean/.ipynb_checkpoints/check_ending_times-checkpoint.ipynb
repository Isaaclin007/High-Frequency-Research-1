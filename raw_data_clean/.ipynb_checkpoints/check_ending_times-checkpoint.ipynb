{
 "cells": [
  {
   "cell_type": "code",
   "execution_count": 2,
   "metadata": {},
   "outputs": [],
   "source": [
    "import pandas as pd\n",
    "import numpy as np\n",
    "import h5py\n",
    "import os\n",
    "\n",
    "\n",
    "def get_keysHDF(path):\n",
    "\n",
    "    f = h5py.File(path)\n",
    "    keys = list(f.keys())\n",
    "    return keys\n",
    "\n",
    "\n",
    "if __name__ == '__main__':\n",
    "\n",
    "\tday_list = os.listdir('F:/tick_raw')\n",
    "\tindex = 1\n",
    "    print(day_list[index])\n",
    "\tdata_path = 'F:/tick_raw/{}'.format(day_list[index])\n",
    "\tdata = pd.HDFStore(data_path, 'r')\n",
    "\tkeys = get_keysHDF(data_path)\n",
    "\tlast_time = np.zeros(len(keys))\n",
    "\tfor k in range(len(keys)):\n",
    "\t\tlast_time[k] = data[keys[k]]['Time'].iloc[-1]\n",
    "\n",
    "\tkeys_array = np.array(keys)\n",
    "\tstocks_lessthan_1500 = keys_array[(last_time < 145900000)]\n",
    "\tstatus = np.zeros(len(stocks_lessthan_1500))\n",
    "\tfor i in range(len(stocks_lessthan_1500)):\n",
    "\t\tstatus[i] = data[stocks_lessthan_1500[i]]['Status'].iloc[-1]\n"
   ]
  },
  {
   "cell_type": "code",
   "execution_count": 3,
   "metadata": {},
   "outputs": [
    {
     "data": {
      "text/plain": [
       "array([66., 66., 66., 66., 66., 66., 66., 66., 66., 66., 66., 66., 66.,\n",
       "       66., 66., 66., 66., 66., 66., 66., 66., 66., 66., 66., 66., 66.,\n",
       "       66., 66., 66., 66., 66., 66., 66., 66., 66., 66., 66., 66., 66.,\n",
       "       66., 66., 66., 66., 66., 66., 66., 66., 66., 66., 66., 66., 66.,\n",
       "       66., 66., 66., 66., 66., 66., 66., 66., 66., 66., 66., 66., 66.,\n",
       "       66., 66., 66., 66., 66., 66., 66., 66., 66., 66., 66., 66., 66.,\n",
       "       66., 66., 66., 66., 66., 66., 66., 66., 66., 66., 66., 66., 66.,\n",
       "       66., 66., 66., 66., 66., 66., 66., 66., 66., 66., 66., 66., 66.,\n",
       "       66., 66., 66., 66., 66., 66., 66., 66., 66., 66., 66., 66., 66.,\n",
       "       66., 66., 66., 66., 66., 66., 66., 66., 66., 88., 88., 88., 88.,\n",
       "       88., 88., 88., 88., 88., 88., 88., 88., 88., 88., 88., 88., 88.,\n",
       "       88., 88., 88., 88., 88., 88.,  0., 88., 88., 88., 88., 88., 88.,\n",
       "       88., 88., 88., 88., 88., 88.,  0., 88., 88., 88., 88., 88., 88.,\n",
       "       88., 88., 88., 88., 88., 88., 88., 88., 88., 88., 88., 88., 88.,\n",
       "       88., 88., 88., 88., 88., 88., 88., 88., 88., 88., 88., 88., 88.,\n",
       "       88., 88., 88., 88., 88., 88., 88., 88.])"
      ]
     },
     "execution_count": 3,
     "metadata": {},
     "output_type": "execute_result"
    }
   ],
   "source": [
    "status"
   ]
  },
  {
   "cell_type": "code",
   "execution_count": 4,
   "metadata": {},
   "outputs": [
    {
     "data": {
      "text/plain": [
       "['20180601.h5',\n",
       " '20180604.h5',\n",
       " '20180605.h5',\n",
       " '20180606.h5',\n",
       " '20180607.h5',\n",
       " '20180608.h5',\n",
       " '20180611.h5',\n",
       " '20180612.h5',\n",
       " '20180613.h5',\n",
       " '20180614.h5',\n",
       " '20180615.h5',\n",
       " '20180619.h5',\n",
       " '20180620.h5',\n",
       " '20180621.h5',\n",
       " '20180622.h5',\n",
       " '20180625.h5',\n",
       " '20180626.h5',\n",
       " '20180627.h5',\n",
       " '20180628.h5',\n",
       " '20180629.h5',\n",
       " '20180702.h5',\n",
       " '20180703.h5',\n",
       " '20180704.h5',\n",
       " '20180705.h5',\n",
       " '20180706.h5',\n",
       " '20180709.h5',\n",
       " '20180710.h5',\n",
       " '20180711.h5',\n",
       " '20180712.h5',\n",
       " '20180713.h5',\n",
       " '20180716.h5',\n",
       " '20180717.h5',\n",
       " '20180718.h5',\n",
       " '20180719.h5',\n",
       " '20180720.h5',\n",
       " '20180723.h5',\n",
       " '20180724.h5',\n",
       " '20180725.h5']"
      ]
     },
     "execution_count": 4,
     "metadata": {},
     "output_type": "execute_result"
    }
   ],
   "source": [
    "day_list"
   ]
  },
  {
   "cell_type": "code",
   "execution_count": null,
   "metadata": {},
   "outputs": [],
   "source": []
  }
 ],
 "metadata": {
  "kernelspec": {
   "display_name": "Python 3",
   "language": "python",
   "name": "python3"
  },
  "language_info": {
   "codemirror_mode": {
    "name": "ipython",
    "version": 3
   },
   "file_extension": ".py",
   "mimetype": "text/x-python",
   "name": "python",
   "nbconvert_exporter": "python",
   "pygments_lexer": "ipython3",
   "version": "3.6.6"
  }
 },
 "nbformat": 4,
 "nbformat_minor": 2
}
